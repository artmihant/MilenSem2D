{
 "cells": [
  {
   "cell_type": "markdown",
   "id": "7ae29f21",
   "metadata": {},
   "source": [
    "# Численное моделирование распространения сейсмических волн в двумерной среде MILEN SEM 2D\n",
    "\n",
    "## Часть IV: Построение сплайновой модели с адаптированной длине волны сеткой.\n",
    "\n",
    "### Геометрия\n",
    "\n",
    "По итогам обсуждения с коллегами, было принято решение строить модель с адаптивной по длине волны сеткой.\n",
    "\n",
    "В cae-fidesys можно сделать сплайновую сетку. Для этого нам нужны следующие команды jou:\n",
    "\n",
    "`create vertex location <x> <y> <z>` - создает вершину по указанным координатам (назначяет её индекс по порядку: 1,2,3,...)\n",
    "\n",
    "`create curve spline location vertex [<v1> <v2> <v3> ...]` - создает сплайновую кривую через указанный набор вершин. В скобках - список id вершин через пробел\n",
    "\n",
    "`create surface skin curve <c1> <c2>` - создает сплайновую поверхность, ограниченную двумя указанными вершинами.\n"
   ]
  },
  {
   "cell_type": "markdown",
   "id": "f10b0cf4",
   "metadata": {},
   "source": [
    "Достаем нужные данные"
   ]
  },
  {
   "cell_type": "code",
   "execution_count": 83,
   "id": "eb3b20cf",
   "metadata": {},
   "outputs": [],
   "source": [
    "import numpy as np"
   ]
  },
  {
   "cell_type": "code",
   "execution_count": 84,
   "id": "cc8fdb25",
   "metadata": {},
   "outputs": [],
   "source": [
    "# Загрузка данных профильных сечений геологических поверхностей\n",
    "\n",
    "# Загружаем файл с профильными сечениями\n",
    "model1_mesh_coords = np.load('model1_mesh_coords.npz')\n",
    "\n",
    "x_coordinates = model1_mesh_coords['x_coordinates']\n",
    "z_coordinates = model1_mesh_coords['z_coordinates']\n",
    "layers_sep=[0, 17, 30, 48, 90, 112, 121, 137, 165, 220, 222, 224, 226, 228, 230, 232, 240, 242]"
   ]
  },
  {
   "cell_type": "code",
   "execution_count": 85,
   "id": "22cf02f5",
   "metadata": {},
   "outputs": [
    {
     "name": "stdout",
     "output_type": "stream",
     "text": [
      "Форма данных: (17, 7)\n",
      "\n",
      "Первые 5 строк:\n",
      "   id  depth       vp  phob         vs       type  h_max\n",
      "0   1    170  1581,34  1898    868,881  песчаник      50\n",
      "1   2    300  1612,85  1906   886,2115      глина     51\n",
      "2   3    480  1791,58  1945    984,513   песчаник     56\n",
      "3   4    900  2118,46  2016   1164,297     глина      67\n",
      "4   5   1120  2565,47  2108  1410,1525   песчаник     81\n",
      "\n",
      "Информация о столбцах:\n",
      "<class 'pandas.core.frame.DataFrame'>\n",
      "RangeIndex: 17 entries, 0 to 16\n",
      "Data columns (total 7 columns):\n",
      " #   Column  Non-Null Count  Dtype \n",
      "---  ------  --------------  ----- \n",
      " 0   id      17 non-null     int64 \n",
      " 1   depth   17 non-null     int64 \n",
      " 2   vp      17 non-null     object\n",
      " 3   phob    17 non-null     int64 \n",
      " 4   vs      17 non-null     object\n",
      " 5   type    17 non-null     object\n",
      " 6   h_max   17 non-null     int64 \n",
      "dtypes: int64(4), object(3)\n",
      "memory usage: 1.1+ KB\n",
      "None\n",
      "\n",
      "Описательная статистика:\n",
      "              id        depth         phob       h_max\n",
      "count  17.000000    17.000000    17.000000   17.000000\n",
      "mean    9.000000  1637.647059  2139.941176   86.529412\n",
      "std     5.049752   801.011309   132.864344   20.784963\n",
      "min     1.000000   170.000000  1898.000000   50.000000\n",
      "25%     5.000000  1120.000000  2071.000000   75.000000\n",
      "50%     9.000000  2200.000000  2172.000000   91.000000\n",
      "75%    13.000000  2280.000000  2225.000000  100.000000\n",
      "max    17.000000  2420.000000  2331.000000  118.000000\n",
      "\n",
      "Массив layers_sep: [  0  17  30  48  90 112 121 137 165 220 222 224 226 228 230 232 240 242]\n"
     ]
    }
   ],
   "source": [
    "import pandas as pd\n",
    "\n",
    "# Загружаем данные из CSV файла\n",
    "static_material = pd.read_csv('data/static_material.csv', sep='\\t')\n",
    "\n",
    "# Выводим информацию о загруженных данных\n",
    "print(\"Форма данных:\", static_material.shape)\n",
    "print(\"\\nПервые 5 строк:\")\n",
    "print(static_material.head())\n",
    "print(\"\\nИнформация о столбцах:\")\n",
    "print(static_material.info())\n",
    "print(\"\\nОписательная статистика:\")\n",
    "print(static_material.describe())\n",
    "\n",
    "# Извлекаем массив глубин для layers_sep\n",
    "layers_sep = np.array([0] + static_material['depth'].tolist())//10\n",
    "print(f\"\\nМассив layers_sep: {layers_sep}\")"
   ]
  },
  {
   "cell_type": "markdown",
   "id": "7aaba580",
   "metadata": {},
   "source": [
    "берем каждую пятую координату и только по нужным слоям, что бы построить сплайны"
   ]
  },
  {
   "cell_type": "code",
   "execution_count": 123,
   "id": "e0051eb2",
   "metadata": {},
   "outputs": [],
   "source": [
    "z_data = z_coordinates[::5, layers_sep].T\n",
    "x_data = x_coordinates[::5]\n",
    "\n",
    "vertex_coords = np.zeros((*z_data.shape,3))\n",
    "\n",
    "vertex_coords[:,:,1] = z_data\n",
    "vertex_coords[:,:,0] = x_data\n"
   ]
  },
  {
   "cell_type": "code",
   "execution_count": 87,
   "id": "eb324015",
   "metadata": {},
   "outputs": [
    {
     "data": {
      "text/plain": [
       "(18, 24, 3)"
      ]
     },
     "execution_count": 87,
     "metadata": {},
     "output_type": "execute_result"
    }
   ],
   "source": [
    "vertex_coords.shape"
   ]
  },
  {
   "cell_type": "markdown",
   "id": "cb21ce08",
   "metadata": {},
   "source": [
    "Создадим скрипт: /home/antonov/Base/Research/MilenSem2D/model3_geom.jou"
   ]
  },
  {
   "cell_type": "code",
   "execution_count": 124,
   "id": "75380460",
   "metadata": {},
   "outputs": [],
   "source": [
    "with open('model3_geom.jou', 'w') as f:\n",
    "    f.write(f'reset\\n')\n",
    "\n",
    "    for curve_id in range(1,vertex_coords.shape[0]+1):\n",
    "        row = vertex_coords[curve_id-1]\n",
    "        for v in row:\n",
    "            f.write(f'create vertex location {v[0]} {v[1]} {v[2]}\\n')\n",
    "        v_indexs = f'vertex {vertex_coords.shape[1]*(curve_id-1)+1} to {vertex_coords.shape[1]*(curve_id)}'\n",
    "        f.write(f'create curve spline location {v_indexs}\\n')\n",
    "        f.write(f'delete {v_indexs}\\n')\n",
    "\n",
    "    for surf_id in range(1,vertex_coords.shape[0]):\n",
    "        f.write(f'create surface skin curve {surf_id} {surf_id+1}\\n')\n",
    "    \n",
    "    for curve_id in range(1,vertex_coords.shape[0]+1):\n",
    "        f.write(f'delete curve {curve_id}\\n')\n",
    "\n",
    "    f.write('merge curve all\\n')\n",
    "    f.write('compress curve all\\n')\n"
   ]
  },
  {
   "cell_type": "code",
   "execution_count": null,
   "id": "bed7e696",
   "metadata": {},
   "outputs": [
    {
     "name": "stdout",
     "output_type": "stream",
     "text": [
      "1 3 6 9 12 15 18 21 24 27 30 33 36 39 42 45 48 51\n"
     ]
    }
   ],
   "source": []
  },
  {
   "cell_type": "markdown",
   "id": "0f3a36cc",
   "metadata": {},
   "source": [
    "Скрипт генерирует сплайновую геометрию нужной конфигурации."
   ]
  },
  {
   "cell_type": "markdown",
   "id": "00bcefef",
   "metadata": {},
   "source": [
    "![model3_geom.png](img/model3_geom.png)"
   ]
  },
  {
   "cell_type": "markdown",
   "id": "659bf517",
   "metadata": {},
   "source": [
    "### Сетка"
   ]
  },
  {
   "cell_type": "markdown",
   "id": "dd03e2d9",
   "metadata": {},
   "source": [
    "Для грамотного неструктурированного мешинга нужно задать количество интервалов вдоль кривых. Зададим их в виде массива размера 18. Для этого извлечем данные о средних материалах в слое:"
   ]
  },
  {
   "cell_type": "markdown",
   "id": "3e8f0480",
   "metadata": {},
   "source": [
    "Нам удоблее будет поделить на h_max длину слоя и получить число интервалов:"
   ]
  },
  {
   "cell_type": "markdown",
   "id": "a8338232",
   "metadata": {},
   "source": []
  },
  {
   "cell_type": "code",
   "execution_count": 90,
   "id": "5c504b38",
   "metadata": {},
   "outputs": [
    {
     "name": "stdout",
     "output_type": "stream",
     "text": [
      "Массив количества интервалов: [235, 231, 210, 176, 146, 157, 133, 130, 125, 130, 133, 124, 118, 100, 104, 118, 107]\n"
     ]
    }
   ],
   "source": [
    "layer_len = 11750\n",
    "\n",
    "# Создаем массив с результатами деления 11750 на h_max, округленными вверх\n",
    "intervals_array = np.ceil(layer_len / static_material['h_max']).astype(int)\n",
    "print(\"Массив количества интервалов:\", intervals_array.tolist())\n"
   ]
  },
  {
   "cell_type": "markdown",
   "id": "439424b2",
   "metadata": {},
   "source": [
    "Получен массив:  [235, 231, 210, 176, 146, 157, 133, 130, 125, 130, 133, 124, 118, 100, 104, 118, 107]. Это *нижняя* граница для допустимого числа интервалов на каждой кривой (начиная со второй). Мы не сможем задать её напрямую, поскольку большинство слоев слишком тонкие, что бы создать на них неструктурированную сетку."
   ]
  },
  {
   "cell_type": "markdown",
   "id": "ec6090e4",
   "metadata": {},
   "source": [
    "Вот примерные ширины слоев в м:"
   ]
  },
  {
   "cell_type": "code",
   "execution_count": 91,
   "id": "4d78ff83",
   "metadata": {},
   "outputs": [
    {
     "data": {
      "text/plain": [
       "array([170, 130, 180, 420, 220,  90, 160, 280, 550,  20,  20,  20,  20,\n",
       "        20,  20,  80,  20])"
      ]
     },
     "execution_count": 91,
     "metadata": {},
     "output_type": "execute_result"
    }
   ],
   "source": [
    "np.diff(layers_sep*10)\n"
   ]
  },
  {
   "cell_type": "markdown",
   "id": "b71c4782",
   "metadata": {},
   "source": [
    "Желательно иметь хотя бы 6 размеров ячейки на слой (размер ячейки начинается от 50), что означает, что для неструктурированности подходит только слой 4 (420 м) и слой 9 (550) м. \n",
    "\n",
    "Можно сделать это автоматически, но для лучшего контроля запишем интервалы вручную. Кроме того, надо добавить одно число в конце.\n",
    "\n",
    "[235, 231, 210, 176, 146, 157, 133, 130, 125, 130, 133, 124, 118, 100, 104, 118, 107] ->\n",
    "\n",
    "[235, 235, 235, 235, **170**, 175, 175, 175, 175, **135**, 135, 135, 135, 135, 135, 135, 135, 135]\n",
    "\n",
    "Почему 175 и 135? Число должно быть больше, чем все числа дальше, \n",
    "\n",
    "Кроме того, добавим желаемое число интервалов вдоль боковой проверхности. "
   ]
  },
  {
   "cell_type": "markdown",
   "id": "a5a73832",
   "metadata": {},
   "source": [
    "Индексы кривых, к которым нужно приложить, вычисляются так:"
   ]
  },
  {
   "cell_type": "code",
   "execution_count": 109,
   "id": "f2ae4b09",
   "metadata": {},
   "outputs": [],
   "source": [
    "curve_ids = [1] + list(range(3,17*3+1,3))"
   ]
  },
  {
   "cell_type": "markdown",
   "id": "a10ce354",
   "metadata": {},
   "source": [
    "Строим сетку методами map (стурктурированные слои) и pave (нестуктурированные слои)"
   ]
  },
  {
   "cell_type": "markdown",
   "id": "ae2643ca",
   "metadata": {},
   "source": [
    "/home/antonov/Base/Research/MilenSem2D/model3_mesh.jou"
   ]
  },
  {
   "cell_type": "code",
   "execution_count": null,
   "id": "bcb86c30",
   "metadata": {},
   "outputs": [],
   "source": [
    "INT_1 = 235\n",
    "INT_2 = 175\n",
    "INT_3 = 135\n",
    "\n",
    "intervals_x = [INT_1, INT_1, INT_1, INT_1, INT_2, INT_2, INT_2, INT_2, INT_2, INT_3, INT_3, INT_3, INT_3, INT_3, INT_3, INT_3, INT_3, INT_3]\n",
    "intervals_z = [4, 3, 4, 6, 4, 2, 3, 5, 8, 1, 1, 1, 1, 1, 1, 1, 1, 1]\n",
    "\n",
    "with open('model3_mesh.jou', 'w') as f:\n",
    "    f.write(f'delete mesh surface all propagate\\n')\n",
    "    f.write(f'delete mesh curve all propagate\\n')\n",
    "\n",
    "    for i, curve_id in enumerate(curve_ids):\n",
    "        f.write(f'curve {curve_id} scheme equal interval {intervals_x[i]}\\n')\n",
    "    for i, curve_id in enumerate(range(4, 17*3+2, 3)):\n",
    "        f.write(f'curve {curve_id} scheme equal interval {intervals_z[i]}\\n')\n",
    "    for i, curve_id in enumerate(range(2, 17*3+1, 3)):\n",
    "        f.write(f'curve {curve_id} scheme equal interval {intervals_z[i]}\\n')\n",
    "    f.write(f'mesh curve all\\n')\n",
    "\n",
    "    for i, surf_id in enumerate(range(1, 18)):\n",
    "        if intervals_x[i] == intervals_x[i+1]:\n",
    "            f.write(f'surface {surf_id} scheme map\\n')\n",
    "        else:\n",
    "            f.write(f'surface {surf_id} scheme pave\\n')\n",
    "\n",
    "    f.write(f'mesh surface all\\n')\n",
    "\n"
   ]
  },
  {
   "cell_type": "markdown",
   "id": "2af7ede0",
   "metadata": {},
   "source": [
    "### Задаем тестовый материал"
   ]
  },
  {
   "cell_type": "markdown",
   "id": "25b1701f",
   "metadata": {},
   "source": [
    "Эта сетка слишком грубая, что бы задать и привязать к файлу расчета тот сильно дискретезированный материал, который мы хотим. Но мы можем задать для тестового расчета статический материал, полученный усреднением по слою. **Этот материал - исключительно для пробного расчета и в основной исследовательской программе учитываться не будет.**"
   ]
  },
  {
   "cell_type": "code",
   "execution_count": 113,
   "id": "2729f290",
   "metadata": {},
   "outputs": [
    {
     "data": {
      "text/html": [
       "<div>\n",
       "<style scoped>\n",
       "    .dataframe tbody tr th:only-of-type {\n",
       "        vertical-align: middle;\n",
       "    }\n",
       "\n",
       "    .dataframe tbody tr th {\n",
       "        vertical-align: top;\n",
       "    }\n",
       "\n",
       "    .dataframe thead th {\n",
       "        text-align: right;\n",
       "    }\n",
       "</style>\n",
       "<table border=\"1\" class=\"dataframe\">\n",
       "  <thead>\n",
       "    <tr style=\"text-align: right;\">\n",
       "      <th></th>\n",
       "      <th>id</th>\n",
       "      <th>depth</th>\n",
       "      <th>vp</th>\n",
       "      <th>phob</th>\n",
       "      <th>vs</th>\n",
       "      <th>type</th>\n",
       "      <th>h_max</th>\n",
       "    </tr>\n",
       "  </thead>\n",
       "  <tbody>\n",
       "    <tr>\n",
       "      <th>0</th>\n",
       "      <td>1</td>\n",
       "      <td>170</td>\n",
       "      <td>1581,34</td>\n",
       "      <td>1898</td>\n",
       "      <td>868,881</td>\n",
       "      <td>песчаник</td>\n",
       "      <td>50</td>\n",
       "    </tr>\n",
       "    <tr>\n",
       "      <th>1</th>\n",
       "      <td>2</td>\n",
       "      <td>300</td>\n",
       "      <td>1612,85</td>\n",
       "      <td>1906</td>\n",
       "      <td>886,2115</td>\n",
       "      <td>глина</td>\n",
       "      <td>51</td>\n",
       "    </tr>\n",
       "    <tr>\n",
       "      <th>2</th>\n",
       "      <td>3</td>\n",
       "      <td>480</td>\n",
       "      <td>1791,58</td>\n",
       "      <td>1945</td>\n",
       "      <td>984,513</td>\n",
       "      <td>песчаник</td>\n",
       "      <td>56</td>\n",
       "    </tr>\n",
       "    <tr>\n",
       "      <th>3</th>\n",
       "      <td>4</td>\n",
       "      <td>900</td>\n",
       "      <td>2118,46</td>\n",
       "      <td>2016</td>\n",
       "      <td>1164,297</td>\n",
       "      <td>глина</td>\n",
       "      <td>67</td>\n",
       "    </tr>\n",
       "    <tr>\n",
       "      <th>4</th>\n",
       "      <td>5</td>\n",
       "      <td>1120</td>\n",
       "      <td>2565,47</td>\n",
       "      <td>2108</td>\n",
       "      <td>1410,1525</td>\n",
       "      <td>песчаник</td>\n",
       "      <td>81</td>\n",
       "    </tr>\n",
       "    <tr>\n",
       "      <th>5</th>\n",
       "      <td>6</td>\n",
       "      <td>1210</td>\n",
       "      <td>2380,6</td>\n",
       "      <td>2071</td>\n",
       "      <td>1308,474</td>\n",
       "      <td>алевролит</td>\n",
       "      <td>75</td>\n",
       "    </tr>\n",
       "    <tr>\n",
       "      <th>6</th>\n",
       "      <td>7</td>\n",
       "      <td>1370</td>\n",
       "      <td>2819,71</td>\n",
       "      <td>2159</td>\n",
       "      <td>1549,9845</td>\n",
       "      <td>глина</td>\n",
       "      <td>89</td>\n",
       "    </tr>\n",
       "    <tr>\n",
       "      <th>7</th>\n",
       "      <td>8</td>\n",
       "      <td>1650</td>\n",
       "      <td>2884,7</td>\n",
       "      <td>2172</td>\n",
       "      <td>1585,729</td>\n",
       "      <td>песчаник</td>\n",
       "      <td>91</td>\n",
       "    </tr>\n",
       "    <tr>\n",
       "      <th>8</th>\n",
       "      <td>9</td>\n",
       "      <td>2200</td>\n",
       "      <td>2993,5</td>\n",
       "      <td>2193</td>\n",
       "      <td>1645,569</td>\n",
       "      <td>глина</td>\n",
       "      <td>94</td>\n",
       "    </tr>\n",
       "    <tr>\n",
       "      <th>9</th>\n",
       "      <td>10</td>\n",
       "      <td>2220</td>\n",
       "      <td>2899,18</td>\n",
       "      <td>2175</td>\n",
       "      <td>1593,693</td>\n",
       "      <td>карбонаты</td>\n",
       "      <td>91</td>\n",
       "    </tr>\n",
       "    <tr>\n",
       "      <th>10</th>\n",
       "      <td>11</td>\n",
       "      <td>2240</td>\n",
       "      <td>2828,94</td>\n",
       "      <td>2161</td>\n",
       "      <td>1555,061</td>\n",
       "      <td>глина</td>\n",
       "      <td>89</td>\n",
       "    </tr>\n",
       "    <tr>\n",
       "      <th>11</th>\n",
       "      <td>12</td>\n",
       "      <td>2260</td>\n",
       "      <td>3027,67</td>\n",
       "      <td>2199</td>\n",
       "      <td>1664,3625</td>\n",
       "      <td>кремний</td>\n",
       "      <td>95</td>\n",
       "    </tr>\n",
       "    <tr>\n",
       "      <th>12</th>\n",
       "      <td>13</td>\n",
       "      <td>2280</td>\n",
       "      <td>3168,95</td>\n",
       "      <td>2226</td>\n",
       "      <td>1742,0665</td>\n",
       "      <td>карбонаты</td>\n",
       "      <td>100</td>\n",
       "    </tr>\n",
       "    <tr>\n",
       "      <th>13</th>\n",
       "      <td>14</td>\n",
       "      <td>2300</td>\n",
       "      <td>3748,95</td>\n",
       "      <td>2331</td>\n",
       "      <td>2061,0665</td>\n",
       "      <td>глина</td>\n",
       "      <td>118</td>\n",
       "    </tr>\n",
       "    <tr>\n",
       "      <th>14</th>\n",
       "      <td>15</td>\n",
       "      <td>2320</td>\n",
       "      <td>3609,3</td>\n",
       "      <td>2307</td>\n",
       "      <td>1984,259</td>\n",
       "      <td>песчаник</td>\n",
       "      <td>114</td>\n",
       "    </tr>\n",
       "    <tr>\n",
       "      <th>15</th>\n",
       "      <td>16</td>\n",
       "      <td>2400</td>\n",
       "      <td>3164,06</td>\n",
       "      <td>2225</td>\n",
       "      <td>1739,377</td>\n",
       "      <td>алевролит</td>\n",
       "      <td>100</td>\n",
       "    </tr>\n",
       "    <tr>\n",
       "      <th>16</th>\n",
       "      <td>17</td>\n",
       "      <td>2420</td>\n",
       "      <td>3497,74</td>\n",
       "      <td>2287</td>\n",
       "      <td>1922,901</td>\n",
       "      <td>песчаник</td>\n",
       "      <td>110</td>\n",
       "    </tr>\n",
       "  </tbody>\n",
       "</table>\n",
       "</div>"
      ],
      "text/plain": [
       "    id  depth       vp  phob         vs       type  h_max\n",
       "0    1    170  1581,34  1898    868,881  песчаник      50\n",
       "1    2    300  1612,85  1906   886,2115      глина     51\n",
       "2    3    480  1791,58  1945    984,513   песчаник     56\n",
       "3    4    900  2118,46  2016   1164,297     глина      67\n",
       "4    5   1120  2565,47  2108  1410,1525   песчаник     81\n",
       "5    6   1210   2380,6  2071   1308,474  алевролит     75\n",
       "6    7   1370  2819,71  2159  1549,9845     глина      89\n",
       "7    8   1650   2884,7  2172   1585,729   песчаник     91\n",
       "8    9   2200   2993,5  2193   1645,569     глина      94\n",
       "9   10   2220  2899,18  2175   1593,693  карбонаты     91\n",
       "10  11   2240  2828,94  2161   1555,061      глина     89\n",
       "11  12   2260  3027,67  2199  1664,3625    кремний     95\n",
       "12  13   2280  3168,95  2226  1742,0665  карбонаты    100\n",
       "13  14   2300  3748,95  2331  2061,0665      глина    118\n",
       "14  15   2320   3609,3  2307   1984,259   песчаник    114\n",
       "15  16   2400  3164,06  2225   1739,377  алевролит    100\n",
       "16  17   2420  3497,74  2287   1922,901  песчаник     110"
      ]
     },
     "execution_count": 113,
     "metadata": {},
     "output_type": "execute_result"
    }
   ],
   "source": [
    "static_material"
   ]
  },
  {
   "cell_type": "markdown",
   "id": "a93beb01",
   "metadata": {},
   "source": [
    "Зададим тестовый порядок спектрального элемента"
   ]
  },
  {
   "cell_type": "code",
   "execution_count": null,
   "id": "81759872",
   "metadata": {},
   "outputs": [],
   "source": [
    "SEM_DEG = 3"
   ]
  },
  {
   "cell_type": "markdown",
   "id": "b12edcd6",
   "metadata": {},
   "source": []
  },
  {
   "cell_type": "code",
   "execution_count": 125,
   "id": "282d51c2",
   "metadata": {},
   "outputs": [],
   "source": [
    "with open('model3_material.jou', 'w') as f:\n",
    "    f.write(f\"remove material all\\n\")\n",
    "    f.write(f\"delete block all\\n\")\n",
    "    for i in range(1, 18):\n",
    "        f.write(f\"create material {i}\\n\")\n",
    "        f.write(f\"modify material {i} name 'test_mat_{i}'\\n\")\n",
    "        f.write(f\"modify material {i} set property 'VP' value {static_material.iloc[i-1]['vp'].replace(',', '.')}\\n\")\n",
    "        f.write(f\"modify material {i} set property 'VS' value {static_material.iloc[i-1]['vs'].replace(',', '.')}\\n\")\n",
    "        f.write(f\"modify material {i} set property 'DENSITY' value {static_material.iloc[i-1]['phob']}\\n\")\n",
    "        f.write(f\"block {i} add surface {i}\\n\")\n",
    "        f.write(f\"block {i} material {i} cs 1 category plane order {SEM_DEG} \\n\")\n"
   ]
  },
  {
   "cell_type": "markdown",
   "id": "89bc866b",
   "metadata": {},
   "source": [
    "Давайте зададим тестовый набор ГУ и проведем расчет динамики. \n",
    "Для теста снизим порядок спектрального элемента (до 3) и частоту (до 10)"
   ]
  },
  {
   "cell_type": "code",
   "execution_count": 119,
   "id": "1331840e",
   "metadata": {},
   "outputs": [],
   "source": [
    "TEST_FR = 10\n",
    "TEST_AMP = 1e5"
   ]
  },
  {
   "cell_type": "code",
   "execution_count": null,
   "id": "878862d6",
   "metadata": {},
   "outputs": [],
   "source": [
    "with open('model3_bc.jou', 'w') as f:\n",
    "    f.write(f\"create force  on node {INT_1//2} force value 1 direction 0 1 0\\n\")\n",
    "    f.write(f\"bcdep force 1 value 'ricker({TEST_AMP}, {TEST_FR}, 0, time)'\\n\")\n",
    "    f.write(f\"create absorption on curve 51'\\n\")\n",
    "    f.write(f\"create absorption on curve {' '.join(map(str, range(4, 17*3+2, 3)))}\\n\")\n",
    "    f.write(f\"create absorption on curve {' '.join(map(str, range(2, 17*3+1, 3)))}\\n\")\n",
    "    f.write(f\"create receiver on curve 1  velocity 1 1 1\\n\")\n"
   ]
  },
  {
   "cell_type": "code",
   "execution_count": 126,
   "id": "1312d5a0",
   "metadata": {},
   "outputs": [],
   "source": [
    "with open('model3_calc.jou', 'w') as f:\n",
    "    f.write(f\"analysis type dynamic elasticity dim2 planestrain preload off\\n\")\n",
    "    f.write(f\"dynamic method full_solution scheme explicit maxsteps 30000 maxtime 3\\n\")\n",
    "    f.write(f\"dynamic results everytime 0.1\\n\")\n",
    "    f.write(f\"create absorption on curve {' '.join(map(str, range(4, 17*3+2, 3)))}\\n\")\n",
    "    f.write(f\"output nodalforce off energy off record3d off material off without_smoothing off fullperiodic off\\n\")\n"
   ]
  },
  {
   "cell_type": "markdown",
   "id": "e18c36d5",
   "metadata": {},
   "source": []
  },
  {
   "cell_type": "markdown",
   "id": "a560ac32",
   "metadata": {},
   "source": [
    "Результат расчета дает нам достаточно грубую сейсмограмму, которую мы не будем здесь анализировать (можно посмотреть её в  model3/model3_Vx.sgy и model3/model3_Vy.sgy)"
   ]
  },
  {
   "cell_type": "markdown",
   "id": "3a63fed7",
   "metadata": {},
   "source": []
  }
 ],
 "metadata": {
  "kernelspec": {
   "display_name": "Python 3",
   "language": "python",
   "name": "python3"
  },
  "language_info": {
   "codemirror_mode": {
    "name": "ipython",
    "version": 3
   },
   "file_extension": ".py",
   "mimetype": "text/x-python",
   "name": "python",
   "nbconvert_exporter": "python",
   "pygments_lexer": "ipython3",
   "version": "3.13.5"
  }
 },
 "nbformat": 4,
 "nbformat_minor": 5
}
