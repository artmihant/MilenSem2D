{
 "cells": [
  {
   "cell_type": "markdown",
   "id": "4fddea2e",
   "metadata": {},
   "source": [
    "# Численное моделирование распространения сейсмических волн в двумерной среде MILEN SEM 2D\n"
   ]
  },
  {
   "cell_type": "markdown",
   "id": "8a8ff9b7",
   "metadata": {},
   "source": [
    "## Итоговые характеристики геометрии модели"
   ]
  },
  {
   "cell_type": "markdown",
   "id": "8ed98a34",
   "metadata": {},
   "source": [
    "- Сетка криволинейная, адаптированная под свойства слоев, четырехугольная\n",
    "- Элементов по вертикали: 85\n",
    "- Элементов по горизонтали: 235\n",
    "- Элементов: 19975 = 235 x 85\n",
    "- Узлов: 20296\n",
    "- Общая толщина объединенных слоев: ~2370.6 м\n",
    "- Ширина 235*50 = 11750 м\n",
    "- Размер элемента: 50x[от 10 до 50]. "
   ]
  },
  {
   "cell_type": "markdown",
   "id": "c7d7c53d",
   "metadata": {},
   "source": [
    "### Сетка\n",
    "![Визуализация модели model1_mesh](img/image_50a2p.png)\n"
   ]
  },
  {
   "cell_type": "markdown",
   "id": "85e60eab",
   "metadata": {},
   "source": [
    "### Коэффициент Пуассона\n",
    "![Визуализация модели model1_poison](img/model1_poison.png)\n"
   ]
  },
  {
   "cell_type": "markdown",
   "id": "e2a6a567",
   "metadata": {},
   "source": [
    "### Модуль Юнга\n",
    "![Визуализация модели model1_young](img/model1_young.png)\n"
   ]
  },
  {
   "cell_type": "markdown",
   "id": "806f5274",
   "metadata": {},
   "source": [
    "### Плотность\n",
    "![Визуализация модели model1_density](img/model1_density.png)"
   ]
  }
 ],
 "metadata": {
  "language_info": {
   "name": "python"
  }
 },
 "nbformat": 4,
 "nbformat_minor": 5
}
